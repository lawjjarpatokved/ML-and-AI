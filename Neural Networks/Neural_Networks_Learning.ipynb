{
 "cells": [
  {
   "cell_type": "markdown",
   "metadata": {},
   "source": [
    "## Pytorch Ecosystem for Training Neural Netwrok"
   ]
  },
  {
   "cell_type": "code",
   "execution_count": 1,
   "metadata": {},
   "outputs": [
    {
     "name": "stdout",
     "output_type": "stream",
     "text": [
      "Requirement already satisfied: torch in c:\\users\\dell\\appdata\\local\\programs\\python\\python310\\lib\\site-packages (2.3.1)\n",
      "Requirement already satisfied: torchvision in c:\\users\\dell\\appdata\\local\\programs\\python\\python310\\lib\\site-packages (0.18.1)\n",
      "Requirement already satisfied: filelock in c:\\users\\dell\\appdata\\local\\programs\\python\\python310\\lib\\site-packages (from torch) (3.13.4)\n",
      "Requirement already satisfied: typing-extensions>=4.8.0 in c:\\users\\dell\\appdata\\local\\programs\\python\\python310\\lib\\site-packages (from torch) (4.12.2)\n",
      "Requirement already satisfied: sympy in c:\\users\\dell\\appdata\\local\\programs\\python\\python310\\lib\\site-packages (from torch) (1.12.1)\n",
      "Requirement already satisfied: networkx in c:\\users\\dell\\appdata\\local\\programs\\python\\python310\\lib\\site-packages (from torch) (3.3)\n",
      "Requirement already satisfied: jinja2 in c:\\users\\dell\\appdata\\local\\programs\\python\\python310\\lib\\site-packages (from torch) (3.1.2)\n",
      "Requirement already satisfied: fsspec in c:\\users\\dell\\appdata\\local\\programs\\python\\python310\\lib\\site-packages (from torch) (2024.6.0)\n",
      "Requirement already satisfied: mkl<=2021.4.0,>=2021.1.1 in c:\\users\\dell\\appdata\\local\\programs\\python\\python310\\lib\\site-packages (from torch) (2021.4.0)\n",
      "Requirement already satisfied: numpy in c:\\users\\dell\\appdata\\local\\programs\\python\\python310\\lib\\site-packages (from torchvision) (1.25.2)\n",
      "Requirement already satisfied: pillow!=8.3.*,>=5.3.0 in c:\\users\\dell\\appdata\\local\\programs\\python\\python310\\lib\\site-packages (from torchvision) (10.0.0)\n",
      "Requirement already satisfied: intel-openmp==2021.* in c:\\users\\dell\\appdata\\local\\programs\\python\\python310\\lib\\site-packages (from mkl<=2021.4.0,>=2021.1.1->torch) (2021.4.0)\n",
      "Requirement already satisfied: tbb==2021.* in c:\\users\\dell\\appdata\\local\\programs\\python\\python310\\lib\\site-packages (from mkl<=2021.4.0,>=2021.1.1->torch) (2021.12.0)\n",
      "Requirement already satisfied: MarkupSafe>=2.0 in c:\\users\\dell\\appdata\\local\\programs\\python\\python310\\lib\\site-packages (from jinja2->torch) (2.1.3)\n",
      "Requirement already satisfied: mpmath<1.4.0,>=1.1.0 in c:\\users\\dell\\appdata\\local\\programs\\python\\python310\\lib\\site-packages (from sympy->torch) (1.3.0)\n"
     ]
    },
    {
     "name": "stderr",
     "output_type": "stream",
     "text": [
      "\n",
      "[notice] A new release of pip is available: 23.2.1 -> 24.0\n",
      "[notice] To update, run: python.exe -m pip install --upgrade pip\n"
     ]
    },
    {
     "name": "stdout",
     "output_type": "stream",
     "text": [
      "Requirement already satisfied: tqdm in c:\\users\\dell\\appdata\\local\\programs\\python\\python310\\lib\\site-packages (4.66.2)\n",
      "Requirement already satisfied: colorama in c:\\users\\dell\\appdata\\local\\programs\\python\\python310\\lib\\site-packages (from tqdm) (0.4.6)\n"
     ]
    },
    {
     "name": "stderr",
     "output_type": "stream",
     "text": [
      "\n",
      "[notice] A new release of pip is available: 23.2.1 -> 24.0\n",
      "[notice] To update, run: python.exe -m pip install --upgrade pip\n"
     ]
    }
   ],
   "source": [
    "# cell 1\n",
    "# Install dependencies\n",
    "!pip install torch torchvision\n",
    "!pip install tqdm "
   ]
  },
  {
   "cell_type": "code",
   "execution_count": 2,
   "metadata": {},
   "outputs": [],
   "source": [
    "# cell 2\n",
    "# Import Libraries\n",
    "import torch\n",
    "import torch.nn as nn\n",
    "import torch.optim as optim\n",
    "import torch.nn.functional as F\n",
    "import matplotlib.pyplot as plt\n",
    "import numpy as np"
   ]
  },
  {
   "cell_type": "markdown",
   "metadata": {},
   "source": [
    "### Single Layer Perceptron\n",
    "* We will be using single Perceptron Neuron for simulating the behaviour of different basic logic gates.\n",
    "* In pytorch while defining model architecture, the model class must inherit the parent class nn.Module. \n",
    "* The model class must at least contains two methods viz. __init__() method in which we define all the layers and forward() method in which we pass the data and operates on data."
   ]
  },
  {
   "cell_type": "code",
   "execution_count": 5,
   "metadata": {},
   "outputs": [],
   "source": [
    "# cell 3\n",
    "# Perceptron architecture\n",
    "class Perceptron(nn.Module):\n",
    "    def __init__(self, input_dim):\n",
    "        super(Perceptron, self).__init__()\n",
    "        self.fc = nn.Linear(input_dim, 1)\n",
    "    \n",
    "    def forward(self, x):\n",
    "        x = self.fc(x)\n",
    "        x = torch.sigmoid(x)\n",
    "        return x"
   ]
  },
  {
   "cell_type": "markdown",
   "metadata": {},
   "source": [
    "### Training Loop\n",
    "* In native pytorch, we have to write our own training loop.\n",
    "* First set the model to train mode that ensures gradients are computed and propagated.\n",
    "* Then we have to set optimizer to zero_grad() at the beginning of every epoch otherwise the gradient will get accumulated from previous epochs.\n",
    "* Then, we get the outputs for inputs from model and calculate loss.\n",
    "* The loss is then used to calculate gradients for backward propagation.\n",
    "* Then, weights are updated."
   ]
  },
  {
   "cell_type": "code",
   "execution_count": 6,
   "metadata": {},
   "outputs": [],
   "source": [
    "# cell 4\n",
    "# Training loop\n",
    "def train_perceptron(model, criterion, optimizer, data, targets, epochs=100):\n",
    "    for epoch in range(epochs):\n",
    "        model.train()\n",
    "        \n",
    "        optimizer.zero_grad()\n",
    "        \n",
    "        # Forward pass\n",
    "        outputs = model(data)\n",
    "        loss = criterion(outputs, targets)\n",
    "        \n",
    "        # Backward pass\n",
    "        loss.backward()\n",
    "        \n",
    "        # Optimization step: update weights\n",
    "        optimizer.step()\n",
    "        \n",
    "        if (epoch+1) % 10 == 0:\n",
    "            print(f'Epoch [{epoch+1}/{epochs}], Loss: {loss.item():.4f}')"
   ]
  },
  {
   "cell_type": "markdown",
   "metadata": {},
   "source": [
    "### Prediction from Trained Model\n",
    "* Before we make prediction from model, we have to set model to eval model so that gradients will not be computed and stored. It will also make inferencing faster."
   ]
  },
  {
   "cell_type": "code",
   "execution_count": 7,
   "metadata": {},
   "outputs": [],
   "source": [
    "# cell 5\n",
    "# Predict outputs\n",
    "def test_perceptron(model, data):\n",
    "    model.eval()\n",
    "    with torch.no_grad():\n",
    "        outputs = model(data)\n",
    "        predicted = outputs.round().squeeze()\n",
    "        return predicted"
   ]
  },
  {
   "cell_type": "code",
   "execution_count": 8,
   "metadata": {},
   "outputs": [],
   "source": [
    "# cell 6\n",
    "# Sample data (AND logic gate)\n",
    "data = torch.tensor([[0, 0], [0, 1], [1, 0], [1, 1]], dtype=torch.float32)\n",
    "targets = torch.tensor([[0], [0], [0], [1]], dtype=torch.float32)"
   ]
  },
  {
   "cell_type": "markdown",
   "metadata": {},
   "source": [
    "### Visualization of AND Gate Data"
   ]
  },
  {
   "cell_type": "code",
   "execution_count": 9,
   "metadata": {},
   "outputs": [
    {
     "data": {
      "image/png": "[encoded data removed]",
      "text/plain": [
       "<Figure size 800x600 with 1 Axes>"
      ]
     },
     "metadata": {},
     "output_type": "display_data"
    }
   ],
   "source": [
    "# cell 7\n",
    "# Scatter plot for AND gate data\n",
    "plt.figure(figsize=(8, 6))\n",
    "\n",
    "for i in range(data.shape[0]):\n",
    "    if targets[i] == 0:\n",
    "        plt.scatter(data[i, 0].item(), data[i, 1].item(), color='red', marker='o', label='0' if i == 0 else \"\")\n",
    "    else:\n",
    "        plt.scatter(data[i, 0].item(), data[i, 1].item(), color='blue', marker='x', label='1' if i == 3 else \"\")\n",
    "\n",
    "plt.title('AND Gate Data Plot')\n",
    "plt.xlabel('Input 1')\n",
    "plt.ylabel('Input 2')\n",
    "plt.legend()\n",
    "plt.grid(True)\n",
    "plt.show()"
   ]
  },
  {
   "cell_type": "code",
   "execution_count": 16,
   "metadata": {},
   "outputs": [],
   "source": [
    "# cell 8\n",
    "# Instantiate the perceptron model\n",
    "input_dim = data.shape[1]  # number of input features\n",
    "perceptron = Perceptron(input_dim)\n",
    "\n",
    "# Define loss and optimizer\n",
    "criterion = nn.BCELoss()\n",
    "optimizer = optim.SGD(perceptron.parameters(), lr=0.1)"
   ]
  },
  {
   "cell_type": "code",
   "execution_count": 11,
   "metadata": {},
   "outputs": [
    {
     "name": "stdout",
     "output_type": "stream",
     "text": [
      "Epoch [10/300], Loss: 0.5836\n",
      "Epoch [20/300], Loss: 0.5631\n",
      "Epoch [30/300], Loss: 0.5441\n",
      "Epoch [40/300], Loss: 0.5263\n",
      "Epoch [50/300], Loss: 0.5097\n",
      "Epoch [60/300], Loss: 0.4942\n",
      "Epoch [70/300], Loss: 0.4797\n",
      "Epoch [80/300], Loss: 0.4661\n",
      "Epoch [90/300], Loss: 0.4532\n",
      "Epoch [100/300], Loss: 0.4412\n",
      "Epoch [110/300], Loss: 0.4298\n",
      "Epoch [120/300], Loss: 0.4191\n",
      "Epoch [130/300], Loss: 0.4089\n",
      "Epoch [140/300], Loss: 0.3993\n",
      "Epoch [150/300], Loss: 0.3901\n",
      "Epoch [160/300], Loss: 0.3815\n",
      "Epoch [170/300], Loss: 0.3732\n",
      "Epoch [180/300], Loss: 0.3654\n",
      "Epoch [190/300], Loss: 0.3579\n",
      "Epoch [200/300], Loss: 0.3507\n",
      "Epoch [210/300], Loss: 0.3439\n",
      "Epoch [220/300], Loss: 0.3373\n",
      "Epoch [230/300], Loss: 0.3311\n",
      "Epoch [240/300], Loss: 0.3250\n",
      "Epoch [250/300], Loss: 0.3193\n",
      "Epoch [260/300], Loss: 0.3137\n",
      "Epoch [270/300], Loss: 0.3084\n",
      "Epoch [280/300], Loss: 0.3032\n",
      "Epoch [290/300], Loss: 0.2983\n",
      "Epoch [300/300], Loss: 0.2935\n"
     ]
    }
   ],
   "source": [
    "# cell 9\n",
    "train_perceptron(perceptron, criterion, optimizer, data, targets, epochs=300)"
   ]
  },
  {
   "cell_type": "code",
   "execution_count": 12,
   "metadata": {},
   "outputs": [
    {
     "name": "stdout",
     "output_type": "stream",
     "text": [
      "Predicted: [0. 0. 0. 1.]\n",
      "Targets: [0. 0. 0. 1.]\n"
     ]
    }
   ],
   "source": [
    "# cell 10\n",
    "# Predict outputs\n",
    "predicted = test_perceptron(perceptron, data)\n",
    "print(f'Predicted: {predicted.numpy()}')\n",
    "print(f'Targets: {targets.squeeze().numpy()}')"
   ]
  },
  {
   "cell_type": "markdown",
   "metadata": {},
   "source": [
    "### Visualization of Decision Boundary Learnt By Perceptron"
   ]
  },
  {
   "cell_type": "code",
   "execution_count": 13,
   "metadata": {},
   "outputs": [
    {
     "data": {
      "image/png": "[encoded data removed]",
      "text/plain": [
       "<Figure size 800x600 with 1 Axes>"
      ]
     },
     "metadata": {},
     "output_type": "display_data"
    }
   ],
   "source": [
    "# cell 11\n",
    "plt.figure(figsize=(8, 6))\n",
    "\n",
    "# Scatter plot for AND gate data\n",
    "for i in range(data.shape[0]):\n",
    "    if targets[i] == 0:\n",
    "        plt.scatter(data[i, 0].item(), data[i, 1].item(), color='red', marker='o', label='0' if i == 0 else \"\")\n",
    "    else:\n",
    "        plt.scatter(data[i, 0].item(), data[i, 1].item(), color='blue', marker='x', label='1' if i == 3 else \"\")\n",
    "        \n",
    "# Generate a grid of points\n",
    "x_min, x_max = data[:, 0].min() - 0.5, data[:, 0].max() + 0.5\n",
    "y_min, y_max = data[:, 1].min() - 0.5, data[:, 1].max() + 0.5\n",
    "xx, yy = np.meshgrid(np.arange(x_min, x_max, 0.01), np.arange(y_min, y_max, 0.01))\n",
    "grid = torch.tensor(np.c_[xx.ravel(), yy.ravel()], dtype=torch.float32)\n",
    "\n",
    "# Predict outputs for the grid points\n",
    "with torch.no_grad():\n",
    "    zz = perceptron(grid).reshape(xx.shape)\n",
    "\n",
    "# Plot the decision boundary\n",
    "plt.contourf(xx, yy, zz, levels=[0, 0.5, 1], alpha=0.2, colors=['red', 'blue'])\n",
    "\n",
    "plt.title('AND Gate Data with Decision Boundary')\n",
    "plt.xlabel('Input 1')\n",
    "plt.ylabel('Input 2')\n",
    "plt.legend()\n",
    "plt.grid(True)\n",
    "plt.show()"
   ]
  },
  {
   "cell_type": "markdown",
   "metadata": {},
   "source": [
    "### How it performs for XOR Gate?"
   ]
  },
  {
   "cell_type": "code",
   "execution_count": 14,
   "metadata": {},
   "outputs": [],
   "source": [
    "# cell 12\n",
    "# Sample data (XOR logic gate)\n",
    "xor_data = torch.tensor([[0, 0], [0, 1], [1, 0], [1, 1]], dtype=torch.float32)\n",
    "xor_targets = torch.tensor([[0], [1], [1], [0]], dtype=torch.float32)"
   ]
  },
  {
   "cell_type": "markdown",
   "metadata": {},
   "source": [
    "### Visualization of XOR Gate Data"
   ]
  },
  {
   "cell_type": "code",
   "execution_count": 15,
   "metadata": {},
   "outputs": [
    {
     "data": {
      "image/png": "[encoded data removed]",
      "text/plain": [
       "<Figure size 800x600 with 1 Axes>"
      ]
     },
     "metadata": {},
     "output_type": "display_data"
    }
   ],
   "source": [
    "# cell 13\n",
    "plt.figure(figsize=(8, 6))\n",
    "\n",
    "# Scatter plot for XOR gate data\n",
    "for i in range(xor_data.shape[0]):\n",
    "    if xor_targets[i] == 0:\n",
    "        plt.scatter(xor_data[i, 0].item(), data[i, 1].item(), color='red', marker='o', label='0' if i == 0 else \"\")\n",
    "    else:\n",
    "        plt.scatter(xor_data[i, 0].item(), data[i, 1].item(), color='blue', marker='x', label='1' if i == 1 else \"\")\n",
    "\n",
    "plt.title('XOR Gate Data Visualization')\n",
    "plt.xlabel('Input 1')\n",
    "plt.ylabel('Input 2')\n",
    "plt.legend()\n",
    "plt.grid(True)\n",
    "plt.show()\n"
   ]
  },
  {
   "cell_type": "markdown",
   "metadata": {},
   "source": [
    "Training Single Perceptron Neuron for XOR Gate"
   ]
  },
  {
   "cell_type": "code",
   "execution_count": 17,
   "metadata": {},
   "outputs": [
    {
     "name": "stdout",
     "output_type": "stream",
     "text": [
      "Epoch [10/300], Loss: 0.7032\n",
      "Epoch [20/300], Loss: 0.6996\n",
      "Epoch [30/300], Loss: 0.6977\n",
      "Epoch [40/300], Loss: 0.6967\n",
      "Epoch [50/300], Loss: 0.6961\n",
      "Epoch [60/300], Loss: 0.6957\n",
      "Epoch [70/300], Loss: 0.6954\n",
      "Epoch [80/300], Loss: 0.6952\n",
      "Epoch [90/300], Loss: 0.6950\n",
      "Epoch [100/300], Loss: 0.6948\n",
      "Epoch [110/300], Loss: 0.6946\n",
      "Epoch [120/300], Loss: 0.6945\n",
      "Epoch [130/300], Loss: 0.6943\n",
      "Epoch [140/300], Loss: 0.6942\n",
      "Epoch [150/300], Loss: 0.6941\n",
      "Epoch [160/300], Loss: 0.6940\n",
      "Epoch [170/300], Loss: 0.6939\n",
      "Epoch [180/300], Loss: 0.6939\n",
      "Epoch [190/300], Loss: 0.6938\n",
      "Epoch [200/300], Loss: 0.6937\n",
      "Epoch [210/300], Loss: 0.6937\n",
      "Epoch [220/300], Loss: 0.6936\n",
      "Epoch [230/300], Loss: 0.6936\n",
      "Epoch [240/300], Loss: 0.6935\n",
      "Epoch [250/300], Loss: 0.6935\n",
      "Epoch [260/300], Loss: 0.6935\n",
      "Epoch [270/300], Loss: 0.6934\n",
      "Epoch [280/300], Loss: 0.6934\n",
      "Epoch [290/300], Loss: 0.6934\n",
      "Epoch [300/300], Loss: 0.6934\n"
     ]
    }
   ],
   "source": [
    "# cell 14\n",
    "train_perceptron(perceptron, criterion, optimizer, xor_data, xor_targets, epochs=300)"
   ]
  },
  {
   "cell_type": "code",
   "execution_count": 18,
   "metadata": {},
   "outputs": [
    {
     "name": "stdout",
     "output_type": "stream",
     "text": [
      "Predicted: [0. 1. 0. 1.]\n",
      "Targets: [0. 1. 1. 0.]\n"
     ]
    }
   ],
   "source": [
    "# cell 15\n",
    "# Predicting outputs for XOR Gate\n",
    "predicted = test_perceptron(perceptron, xor_data)\n",
    "print(f'Predicted: {predicted.numpy()}')\n",
    "print(f'Targets: {xor_targets.squeeze().numpy()}')"
   ]
  },
  {
   "cell_type": "markdown",
   "metadata": {},
   "source": [
    "### Visualization of Decision Boundary Learnt by Sinlge Perceptron Neuron for XOR Gate"
   ]
  },
  {
   "cell_type": "code",
   "execution_count": 19,
   "metadata": {},
   "outputs": [
    {
     "data": {
      "image/png": "[encoded data removed]",
      "text/plain": [
       "<Figure size 800x600 with 1 Axes>"
      ]
     },
     "metadata": {},
     "output_type": "display_data"
    }
   ],
   "source": [
    "# cell 16\n",
    "plt.figure(figsize=(8, 6))\n",
    "\n",
    "# Scatter plot for XOR gate data\n",
    "for i in range(xor_data.shape[0]):\n",
    "    if xor_targets[i] == 0:\n",
    "        plt.scatter(xor_data[i, 0].item(), data[i, 1].item(), color='red', marker='o', label='0' if i == 0 else \"\")\n",
    "    else:\n",
    "        plt.scatter(xor_data[i, 0].item(), data[i, 1].item(), color='blue', marker='x', label='1' if i == 1 else \"\")\n",
    "\n",
    "# Generate a grid of points\n",
    "x_min, x_max = data[:, 0].min() - 0.5, data[:, 0].max() + 0.5\n",
    "y_min, y_max = data[:, 1].min() - 0.5, data[:, 1].max() + 0.5\n",
    "xx, yy = np.meshgrid(np.arange(x_min, x_max, 0.01), np.arange(y_min, y_max, 0.01))\n",
    "grid = torch.tensor(np.c_[xx.ravel(), yy.ravel()], dtype=torch.float32)\n",
    "\n",
    "# Predict outputs for the grid points\n",
    "with torch.no_grad():\n",
    "    zz = perceptron(grid).reshape(xx.shape)\n",
    "\n",
    "# Plot the decision boundary\n",
    "plt.contourf(xx, yy, zz, levels=[0, 0.5, 1], alpha=0.2, colors=['red', 'blue'])\n",
    "\n",
    "plt.title('XOR Gate Data with Decision Boundary')\n",
    "plt.xlabel('Input 1')\n",
    "plt.ylabel('Input 2')\n",
    "plt.legend()\n",
    "plt.grid(True)\n",
    "plt.show()\n"
   ]
  },
  {
   "cell_type": "markdown",
   "metadata": {},
   "source": [
    "## MultiLayer Perceptron"
   ]
  },
  {
   "cell_type": "code",
   "execution_count": 36,
   "metadata": {},
   "outputs": [],
   "source": [
    "# cell 17\n",
    "class MLP(nn.Module):\n",
    "    def __init__(self, input_dim):\n",
    "        super(MLP, self).__init__()\n",
    "        self.fc1 = nn.Linear(input_dim, 3)  # First hidden layer with 2 neurons\n",
    "        self.fc2 = nn.Linear(3, 1)          # Output layer with 1 neuron\n",
    "    \n",
    "    def forward(self, x):\n",
    "        x = torch.relu(self.fc1(x))\n",
    "        x = torch.sigmoid(self.fc2(x))\n",
    "        return x"
   ]
  },
  {
   "cell_type": "code",
   "execution_count": 37,
   "metadata": {},
   "outputs": [],
   "source": [
    "# cell 18\n",
    "def train_mlp(model, criterion, optimizer, data, targets, epochs=1000):\n",
    "    for epoch in range(epochs):\n",
    "        model.train()\n",
    "        \n",
    "        optimizer.zero_grad()\n",
    "        \n",
    "        # Forward pass\n",
    "        outputs = model(data)\n",
    "        loss = criterion(outputs, targets)\n",
    "        \n",
    "        # Backward pass and optimization\n",
    "        loss.backward()\n",
    "        optimizer.step()\n",
    "        \n",
    "        if (epoch+1) % 100 == 0:\n",
    "            print(f'Epoch [{epoch+1}/{epochs}], Loss: {loss.item():.4f}')"
   ]
  },
  {
   "cell_type": "code",
   "execution_count": 38,
   "metadata": {},
   "outputs": [],
   "source": [
    "# cell 19\n",
    "# Predict outputs\n",
    "def test_mlp(model, data):\n",
    "    model.eval()\n",
    "    with torch.no_grad():\n",
    "        outputs = model(data)\n",
    "        predicted = outputs.round().squeeze()\n",
    "        return predicted"
   ]
  },
  {
   "cell_type": "code",
   "execution_count": 39,
   "metadata": {},
   "outputs": [],
   "source": [
    "# cell 20\n",
    "# Sample data (XOR logic gate)\n",
    "xor_data = torch.tensor([[0, 0], [0, 1], [1, 0], [1, 1]], dtype=torch.float32)\n",
    "xor_targets = torch.tensor([[0], [1], [1], [0]], dtype=torch.float32)"
   ]
  },
  {
   "cell_type": "code",
   "execution_count": 40,
   "metadata": {},
   "outputs": [],
   "source": [
    "# cell 21\n",
    "# Instantiate the MLP model\n",
    "input_dim = data.shape[1]\n",
    "mlp = MLP(input_dim)\n",
    "\n",
    "# Define loss and optimizer\n",
    "criterion = nn.BCELoss()\n",
    "optimizer = optim.SGD(mlp.parameters(), lr=0.1)"
   ]
  },
  {
   "cell_type": "code",
   "execution_count": 44,
   "metadata": {},
   "outputs": [
    {
     "name": "stdout",
     "output_type": "stream",
     "text": [
      "Epoch [100/1000], Loss: 0.0020\n",
      "Epoch [200/1000], Loss: 0.0020\n",
      "Epoch [300/1000], Loss: 0.0019\n",
      "Epoch [400/1000], Loss: 0.0019\n",
      "Epoch [500/1000], Loss: 0.0019\n",
      "Epoch [600/1000], Loss: 0.0019\n",
      "Epoch [700/1000], Loss: 0.0019\n",
      "Epoch [800/1000], Loss: 0.0018\n",
      "Epoch [900/1000], Loss: 0.0018\n",
      "Epoch [1000/1000], Loss: 0.0018\n"
     ]
    }
   ],
   "source": [
    "# cell 22\n",
    "train_mlp(mlp, criterion, optimizer, xor_data, xor_targets, epochs=1000)"
   ]
  },
  {
   "cell_type": "code",
   "execution_count": 45,
   "metadata": {},
   "outputs": [
    {
     "name": "stdout",
     "output_type": "stream",
     "text": [
      "Predicted: [0. 1. 1. 0.]\n",
      "Targets: [0. 1. 1. 0.]\n"
     ]
    }
   ],
   "source": [
    "# cell 23\n",
    "# Predicting outputs for XOR Gate\n",
    "predicted = test_mlp(mlp, xor_data)\n",
    "print(f'Predicted: {predicted.numpy()}')\n",
    "print(f'Targets: {xor_targets.squeeze().numpy()}')"
   ]
  },
  {
   "cell_type": "markdown",
   "metadata": {},
   "source": [
    "Visualization of Decision Boundary Learnt by MLP for XOR Gate"
   ]
  },
  {
   "cell_type": "code",
   "execution_count": 43,
   "metadata": {},
   "outputs": [
    {
     "data": {
      "image/png": "[encoded data removed]",
      "text/plain": [
       "<Figure size 800x600 with 1 Axes>"
      ]
     },
     "metadata": {},
     "output_type": "display_data"
    }
   ],
   "source": [
    "# cell 24\n",
    "plt.figure(figsize=(8, 6))\n",
    "\n",
    "# Scatter plot for XOR gate data\n",
    "for i in range(xor_data.shape[0]):\n",
    "    if xor_targets[i] == 0:\n",
    "        plt.scatter(xor_data[i, 0].item(), data[i, 1].item(), color='red', marker='o', label='0' if i == 0 else \"\")\n",
    "    else:\n",
    "        plt.scatter(xor_data[i, 0].item(), data[i, 1].item(), color='blue', marker='x', label='1' if i == 1 else \"\")\n",
    "\n",
    "# Generate a grid of points\n",
    "x_min, x_max = xor_data[:, 0].min() - 0.5, data[:, 0].max() + 0.5\n",
    "y_min, y_max = xor_data[:, 1].min() - 0.5, data[:, 1].max() + 0.5\n",
    "xx, yy = np.meshgrid(np.arange(x_min, x_max, 0.01), np.arange(y_min, y_max, 0.01))\n",
    "grid = torch.tensor(np.c_[xx.ravel(), yy.ravel()], dtype=torch.float32)\n",
    "\n",
    "# Predict outputs for the grid points\n",
    "with torch.no_grad():\n",
    "    zz = mlp(grid).reshape(xx.shape)\n",
    "\n",
    "# Plot the decision boundary\n",
    "plt.contourf(xx, yy, zz, levels=[0, 0.5, 1], alpha=0.2, colors=['red', 'blue'])\n",
    "\n",
    "plt.title('XOR Gate Data with Decision Boundary')\n",
    "plt.xlabel('Input 1')\n",
    "plt.ylabel('Input 2')\n",
    "plt.legend()\n",
    "plt.grid(True)\n",
    "plt.show()"
   ]
  },
  {
   "cell_type": "markdown",
   "metadata": {},
   "source": [
    "## MultiLayer Perceptron for FashionMNIST Dataset\n",
    "* Pytorch Model Development Pipeline\n",
    "    * Loading Dataset\n",
    "    * Building DataLoader\n",
    "    * Build Model Architecture\n",
    "    * Prepare Training/Optimization Loop\n",
    "    * Model Training and Evaluation\n",
    "    * Model Saving\n",
    "    * Model Inferencing\n",
    "    * Model Quantization and Conversion\n",
    "    * Model Serving\n",
    "* Reference: [here](https://pytorch.org/tutorials/beginner/basics/intro.html)"
   ]
  },
  {
   "cell_type": "code",
   "execution_count": 46,
   "metadata": {},
   "outputs": [],
   "source": [
    "# cell 25\n",
    "import torch\n",
    "# from torch.utils.data import Dataset\n",
    "from torch.utils.data import DataLoader\n",
    "from torchvision import datasets\n",
    "from torchvision.transforms import ToTensor, Lambda\n",
    "import matplotlib.pyplot as plt\n",
    "from tqdm import tqdm"
   ]
  },
  {
   "cell_type": "markdown",
   "metadata": {},
   "source": [
    "### Step 1: Loading Dataset\n",
    "\n",
    "* We will be loading the Fashion-MNIST dataset from TorchVision. \n",
    "* Fashion-MNIST is a dataset of Zalando’s article images consisting of 60,000 training examples and 10,000 test examples. \n",
    "* Each example comprises a 28×28 grayscale image and an associated label from one of 10 classes."
   ]
  },
  {
   "cell_type": "code",
   "execution_count": 47,
   "metadata": {},
   "outputs": [
    {
     "name": "stdout",
     "output_type": "stream",
     "text": [
      "Downloading http://fashion-mnist.s3-website.eu-central-1.amazonaws.com/train-images-idx3-ubyte.gz\n",
      "Downloading http://fashion-mnist.s3-website.eu-central-1.amazonaws.com/train-images-idx3-ubyte.gz to data\\FashionMNIST\\raw\\train-images-idx3-ubyte.gz\n"
     ]
    },
    {
     "name": "stderr",
     "output_type": "stream",
     "text": [
      "100%|█████████████████████████████████████████████████████████████████| 26421880/26421880 [00:05<00:00, 4899441.45it/s]\n"
     ]
    },
    {
     "name": "stdout",
     "output_type": "stream",
     "text": [
      "Extracting data\\FashionMNIST\\raw\\train-images-idx3-ubyte.gz to data\\FashionMNIST\\raw\n",
      "\n",
      "Downloading http://fashion-mnist.s3-website.eu-central-1.amazonaws.com/train-labels-idx1-ubyte.gz\n",
      "Downloading http://fashion-mnist.s3-website.eu-central-1.amazonaws.com/train-labels-idx1-ubyte.gz to data\\FashionMNIST\\raw\\train-labels-idx1-ubyte.gz\n"
     ]
    },
    {
     "name": "stderr",
     "output_type": "stream",
     "text": [
      "100%|████████████████████████████████████████████████████████████████████████| 29515/29515 [00:00<00:00, 159899.56it/s]\n"
     ]
    },
    {
     "name": "stdout",
     "output_type": "stream",
     "text": [
      "Extracting data\\FashionMNIST\\raw\\train-labels-idx1-ubyte.gz to data\\FashionMNIST\\raw\n",
      "\n",
      "Downloading http://fashion-mnist.s3-website.eu-central-1.amazonaws.com/t10k-images-idx3-ubyte.gz\n",
      "Downloading http://fashion-mnist.s3-website.eu-central-1.amazonaws.com/t10k-images-idx3-ubyte.gz to data\\FashionMNIST\\raw\\t10k-images-idx3-ubyte.gz\n"
     ]
    },
    {
     "name": "stderr",
     "output_type": "stream",
     "text": [
      "100%|███████████████████████████████████████████████████████████████████| 4422102/4422102 [00:03<00:00, 1300490.34it/s]\n"
     ]
    },
    {
     "name": "stdout",
     "output_type": "stream",
     "text": [
      "Extracting data\\FashionMNIST\\raw\\t10k-images-idx3-ubyte.gz to data\\FashionMNIST\\raw\n",
      "\n",
      "Downloading http://fashion-mnist.s3-website.eu-central-1.amazonaws.com/t10k-labels-idx1-ubyte.gz\n",
      "Downloading http://fashion-mnist.s3-website.eu-central-1.amazonaws.com/t10k-labels-idx1-ubyte.gz to data\\FashionMNIST\\raw\\t10k-labels-idx1-ubyte.gz\n"
     ]
    },
    {
     "name": "stderr",
     "output_type": "stream",
     "text": [
      "100%|██████████████████████████████████████████████████████████████████████████████████████| 5148/5148 [00:00<?, ?it/s]"
     ]
    },
    {
     "name": "stdout",
     "output_type": "stream",
     "text": [
      "Extracting data\\FashionMNIST\\raw\\t10k-labels-idx1-ubyte.gz to data\\FashionMNIST\\raw\n",
      "\n"
     ]
    },
    {
     "name": "stderr",
     "output_type": "stream",
     "text": [
      "\n"
     ]
    }
   ],
   "source": [
    "# cell 26\n",
    "training_data = datasets.FashionMNIST(\n",
    "    root=\"data\",\n",
    "    train=True,\n",
    "    download=True,\n",
    "    transform=ToTensor()\n",
    ")\n",
    "\n",
    "test_data = datasets.FashionMNIST(\n",
    "    root=\"data\",\n",
    "    train=False,\n",
    "    download=True,\n",
    "    transform=ToTensor()\n",
    ")"
   ]
  },
  {
   "cell_type": "code",
   "execution_count": 48,
   "metadata": {},
   "outputs": [
    {
     "name": "stdout",
     "output_type": "stream",
     "text": [
      "Number of training samples: 60000\n",
      "Number of testing samples: 10000\n"
     ]
    }
   ],
   "source": [
    "# cell 27\n",
    "print(f\"Number of training samples: {len(training_data)}\")\n",
    "print(f\"Number of testing samples: {len(test_data)}\")"
   ]
  },
  {
   "cell_type": "code",
   "execution_count": 49,
   "metadata": {
    "scrolled": true
   },
   "outputs": [
    {
     "name": "stdout",
     "output_type": "stream",
     "text": [
      "Image/label pair as each sample:  (tensor([[[0.0000, 0.0000, 0.0000, 0.0000, 0.0000, 0.0000, 0.0000, 0.0000,\n",
      "          0.0000, 0.0000, 0.0000, 0.0000, 0.0000, 0.0000, 0.0000, 0.0000,\n",
      "          0.0000, 0.0000, 0.0000, 0.0000, 0.0000, 0.0000, 0.0000, 0.0000,\n",
      "          0.0000, 0.0000, 0.0000, 0.0000],\n",
      "         [0.0000, 0.0000, 0.0000, 0.0000, 0.0000, 0.0000, 0.0000, 0.0000,\n",
      "          0.0000, 0.0000, 0.0000, 0.0000, 0.0000, 0.0000, 0.0000, 0.0000,\n",
      "          0.0000, 0.0000, 0.0000, 0.0000, 0.0000, 0.0000, 0.0000, 0.0000,\n",
      "          0.0000, 0.0000, 0.0000, 0.0000],\n",
      "         [0.0000, 0.0000, 0.0000, 0.0000, 0.0000, 0.0000, 0.0000, 0.0000,\n",
      "          0.0000, 0.0000, 0.0000, 0.0000, 0.0000, 0.0000, 0.0000, 0.0000,\n",
      "          0.0000, 0.0000, 0.0000, 0.0000, 0.0000, 0.0000, 0.0000, 0.0000,\n",
      "          0.0000, 0.0000, 0.0000, 0.0000],\n",
      "         [0.0000, 0.0000, 0.0000, 0.0000, 0.0000, 0.0000, 0.0000, 0.0000,\n",
      "          0.0000, 0.0000, 0.0000, 0.0000, 0.0039, 0.0000, 0.0000, 0.0510,\n",
      "          0.2863, 0.0000, 0.0000, 0.0039, 0.0157, 0.0000, 0.0000, 0.0000,\n",
      "          0.0000, 0.0039, 0.0039, 0.0000],\n",
      "         [0.0000, 0.0000, 0.0000, 0.0000, 0.0000, 0.0000, 0.0000, 0.0000,\n",
      "          0.0000, 0.0000, 0.0000, 0.0000, 0.0118, 0.0000, 0.1412, 0.5333,\n",
      "          0.4980, 0.2431, 0.2118, 0.0000, 0.0000, 0.0000, 0.0039, 0.0118,\n",
      "          0.0157, 0.0000, 0.0000, 0.0118],\n",
      "         [0.0000, 0.0000, 0.0000, 0.0000, 0.0000, 0.0000, 0.0000, 0.0000,\n",
      "          0.0000, 0.0000, 0.0000, 0.0000, 0.0235, 0.0000, 0.4000, 0.8000,\n",
      "          0.6902, 0.5255, 0.5647, 0.4824, 0.0902, 0.0000, 0.0000, 0.0000,\n",
      "          0.0000, 0.0471, 0.0392, 0.0000],\n",
      "         [0.0000, 0.0000, 0.0000, 0.0000, 0.0000, 0.0000, 0.0000, 0.0000,\n",
      "          0.0000, 0.0000, 0.0000, 0.0000, 0.0000, 0.0000, 0.6078, 0.9255,\n",
      "          0.8118, 0.6980, 0.4196, 0.6118, 0.6314, 0.4275, 0.2510, 0.0902,\n",
      "          0.3020, 0.5098, 0.2824, 0.0588],\n",
      "         [0.0000, 0.0000, 0.0000, 0.0000, 0.0000, 0.0000, 0.0000, 0.0000,\n",
      "          0.0000, 0.0000, 0.0000, 0.0039, 0.0000, 0.2706, 0.8118, 0.8745,\n",
      "          0.8549, 0.8471, 0.8471, 0.6392, 0.4980, 0.4745, 0.4784, 0.5725,\n",
      "          0.5529, 0.3451, 0.6745, 0.2588],\n",
      "         [0.0000, 0.0000, 0.0000, 0.0000, 0.0000, 0.0000, 0.0000, 0.0000,\n",
      "          0.0000, 0.0039, 0.0039, 0.0039, 0.0000, 0.7843, 0.9098, 0.9098,\n",
      "          0.9137, 0.8980, 0.8745, 0.8745, 0.8431, 0.8353, 0.6431, 0.4980,\n",
      "          0.4824, 0.7686, 0.8980, 0.0000],\n",
      "         [0.0000, 0.0000, 0.0000, 0.0000, 0.0000, 0.0000, 0.0000, 0.0000,\n",
      "          0.0000, 0.0000, 0.0000, 0.0000, 0.0000, 0.7176, 0.8824, 0.8471,\n",
      "          0.8745, 0.8941, 0.9216, 0.8902, 0.8784, 0.8706, 0.8784, 0.8667,\n",
      "          0.8745, 0.9608, 0.6784, 0.0000],\n",
      "         [0.0000, 0.0000, 0.0000, 0.0000, 0.0000, 0.0000, 0.0000, 0.0000,\n",
      "          0.0000, 0.0000, 0.0000, 0.0000, 0.0000, 0.7569, 0.8941, 0.8549,\n",
      "          0.8353, 0.7765, 0.7059, 0.8314, 0.8235, 0.8275, 0.8353, 0.8745,\n",
      "          0.8627, 0.9529, 0.7922, 0.0000],\n",
      "         [0.0000, 0.0000, 0.0000, 0.0000, 0.0000, 0.0000, 0.0000, 0.0000,\n",
      "          0.0000, 0.0039, 0.0118, 0.0000, 0.0471, 0.8588, 0.8627, 0.8314,\n",
      "          0.8549, 0.7529, 0.6627, 0.8902, 0.8157, 0.8549, 0.8784, 0.8314,\n",
      "          0.8863, 0.7725, 0.8196, 0.2039],\n",
      "         [0.0000, 0.0000, 0.0000, 0.0000, 0.0000, 0.0000, 0.0000, 0.0000,\n",
      "          0.0000, 0.0000, 0.0235, 0.0000, 0.3882, 0.9569, 0.8706, 0.8627,\n",
      "          0.8549, 0.7961, 0.7765, 0.8667, 0.8431, 0.8353, 0.8706, 0.8627,\n",
      "          0.9608, 0.4667, 0.6549, 0.2196],\n",
      "         [0.0000, 0.0000, 0.0000, 0.0000, 0.0000, 0.0000, 0.0000, 0.0000,\n",
      "          0.0000, 0.0157, 0.0000, 0.0000, 0.2157, 0.9255, 0.8941, 0.9020,\n",
      "          0.8941, 0.9412, 0.9098, 0.8353, 0.8549, 0.8745, 0.9176, 0.8510,\n",
      "          0.8510, 0.8196, 0.3608, 0.0000],\n",
      "         [0.0000, 0.0000, 0.0039, 0.0157, 0.0235, 0.0275, 0.0078, 0.0000,\n",
      "          0.0000, 0.0000, 0.0000, 0.0000, 0.9294, 0.8863, 0.8510, 0.8745,\n",
      "          0.8706, 0.8588, 0.8706, 0.8667, 0.8471, 0.8745, 0.8980, 0.8431,\n",
      "          0.8549, 1.0000, 0.3020, 0.0000],\n",
      "         [0.0000, 0.0118, 0.0000, 0.0000, 0.0000, 0.0000, 0.0000, 0.0000,\n",
      "          0.0000, 0.2431, 0.5686, 0.8000, 0.8941, 0.8118, 0.8353, 0.8667,\n",
      "          0.8549, 0.8157, 0.8275, 0.8549, 0.8784, 0.8745, 0.8588, 0.8431,\n",
      "          0.8784, 0.9569, 0.6235, 0.0000],\n",
      "         [0.0000, 0.0000, 0.0000, 0.0000, 0.0706, 0.1725, 0.3216, 0.4196,\n",
      "          0.7412, 0.8941, 0.8627, 0.8706, 0.8510, 0.8863, 0.7843, 0.8039,\n",
      "          0.8275, 0.9020, 0.8784, 0.9176, 0.6902, 0.7373, 0.9804, 0.9725,\n",
      "          0.9137, 0.9333, 0.8431, 0.0000],\n",
      "         [0.0000, 0.2235, 0.7333, 0.8157, 0.8784, 0.8667, 0.8784, 0.8157,\n",
      "          0.8000, 0.8392, 0.8157, 0.8196, 0.7843, 0.6235, 0.9608, 0.7569,\n",
      "          0.8078, 0.8745, 1.0000, 1.0000, 0.8667, 0.9176, 0.8667, 0.8275,\n",
      "          0.8627, 0.9098, 0.9647, 0.0000],\n",
      "         [0.0118, 0.7922, 0.8941, 0.8784, 0.8667, 0.8275, 0.8275, 0.8392,\n",
      "          0.8039, 0.8039, 0.8039, 0.8627, 0.9412, 0.3137, 0.5882, 1.0000,\n",
      "          0.8980, 0.8667, 0.7373, 0.6039, 0.7490, 0.8235, 0.8000, 0.8196,\n",
      "          0.8706, 0.8941, 0.8824, 0.0000],\n",
      "         [0.3843, 0.9137, 0.7765, 0.8235, 0.8706, 0.8980, 0.8980, 0.9176,\n",
      "          0.9765, 0.8627, 0.7608, 0.8431, 0.8510, 0.9451, 0.2549, 0.2863,\n",
      "          0.4157, 0.4588, 0.6588, 0.8588, 0.8667, 0.8431, 0.8510, 0.8745,\n",
      "          0.8745, 0.8784, 0.8980, 0.1137],\n",
      "         [0.2941, 0.8000, 0.8314, 0.8000, 0.7569, 0.8039, 0.8275, 0.8824,\n",
      "          0.8471, 0.7255, 0.7725, 0.8078, 0.7765, 0.8353, 0.9412, 0.7647,\n",
      "          0.8902, 0.9608, 0.9373, 0.8745, 0.8549, 0.8314, 0.8196, 0.8706,\n",
      "          0.8627, 0.8667, 0.9020, 0.2627],\n",
      "         [0.1882, 0.7961, 0.7176, 0.7608, 0.8353, 0.7725, 0.7255, 0.7451,\n",
      "          0.7608, 0.7529, 0.7922, 0.8392, 0.8588, 0.8667, 0.8627, 0.9255,\n",
      "          0.8824, 0.8471, 0.7804, 0.8078, 0.7294, 0.7098, 0.6941, 0.6745,\n",
      "          0.7098, 0.8039, 0.8078, 0.4510],\n",
      "         [0.0000, 0.4784, 0.8588, 0.7569, 0.7020, 0.6706, 0.7176, 0.7686,\n",
      "          0.8000, 0.8235, 0.8353, 0.8118, 0.8275, 0.8235, 0.7843, 0.7686,\n",
      "          0.7608, 0.7490, 0.7647, 0.7490, 0.7765, 0.7529, 0.6902, 0.6118,\n",
      "          0.6549, 0.6941, 0.8235, 0.3608],\n",
      "         [0.0000, 0.0000, 0.2902, 0.7412, 0.8314, 0.7490, 0.6863, 0.6745,\n",
      "          0.6863, 0.7098, 0.7255, 0.7373, 0.7412, 0.7373, 0.7569, 0.7765,\n",
      "          0.8000, 0.8196, 0.8235, 0.8235, 0.8275, 0.7373, 0.7373, 0.7608,\n",
      "          0.7529, 0.8471, 0.6667, 0.0000],\n",
      "         [0.0078, 0.0000, 0.0000, 0.0000, 0.2588, 0.7843, 0.8706, 0.9294,\n",
      "          0.9373, 0.9490, 0.9647, 0.9529, 0.9569, 0.8667, 0.8627, 0.7569,\n",
      "          0.7490, 0.7020, 0.7137, 0.7137, 0.7098, 0.6902, 0.6510, 0.6588,\n",
      "          0.3882, 0.2275, 0.0000, 0.0000],\n",
      "         [0.0000, 0.0000, 0.0000, 0.0000, 0.0000, 0.0000, 0.0000, 0.1569,\n",
      "          0.2392, 0.1725, 0.2824, 0.1608, 0.1373, 0.0000, 0.0000, 0.0000,\n",
      "          0.0000, 0.0000, 0.0000, 0.0000, 0.0000, 0.0000, 0.0000, 0.0000,\n",
      "          0.0000, 0.0000, 0.0000, 0.0000],\n",
      "         [0.0000, 0.0000, 0.0000, 0.0000, 0.0000, 0.0000, 0.0000, 0.0000,\n",
      "          0.0000, 0.0000, 0.0000, 0.0000, 0.0000, 0.0000, 0.0000, 0.0000,\n",
      "          0.0000, 0.0000, 0.0000, 0.0000, 0.0000, 0.0000, 0.0000, 0.0000,\n",
      "          0.0000, 0.0000, 0.0000, 0.0000],\n",
      "         [0.0000, 0.0000, 0.0000, 0.0000, 0.0000, 0.0000, 0.0000, 0.0000,\n",
      "          0.0000, 0.0000, 0.0000, 0.0000, 0.0000, 0.0000, 0.0000, 0.0000,\n",
      "          0.0000, 0.0000, 0.0000, 0.0000, 0.0000, 0.0000, 0.0000, 0.0000,\n",
      "          0.0000, 0.0000, 0.0000, 0.0000]]]), 9)\n"
     ]
    }
   ],
   "source": [
    "# cell 28\n",
    "image, label = training_data[0]\n",
    "print(\"Image/label pair as each sample: \", training_data[0])"
   ]
  },
  {
   "cell_type": "code",
   "execution_count": 50,
   "metadata": {},
   "outputs": [
    {
     "name": "stdout",
     "output_type": "stream",
     "text": [
      "Shape of each sample:  torch.Size([1, 28, 28])\n",
      "Label for 0th sample:  9\n"
     ]
    }
   ],
   "source": [
    "# cell 29\n",
    "print(\"Shape of each sample: \", training_data[0][0].shape)\n",
    "print(\"Label for 0th sample: \", training_data[0][1])"
   ]
  },
  {
   "cell_type": "markdown",
   "metadata": {},
   "source": [
    "### Label Mapping"
   ]
  },
  {
   "cell_type": "code",
   "execution_count": 51,
   "metadata": {},
   "outputs": [],
   "source": [
    "# cell 30\n",
    "labels_map = {\n",
    "    0: \"T-Shirt\",\n",
    "    1: \"Trouser\",\n",
    "    2: \"Pullover\",\n",
    "    3: \"Dress\",\n",
    "    4: \"Coat\",\n",
    "    5: \"Sandal\",\n",
    "    6: \"Shirt\",\n",
    "    7: \"Sneaker\",\n",
    "    8: \"Bag\",\n",
    "    9: \"Ankle Boot\",\n",
    "}"
   ]
  },
  {
   "cell_type": "markdown",
   "metadata": {},
   "source": [
    "### Visualizing the dataset"
   ]
  },
  {
   "cell_type": "code",
   "execution_count": 55,
   "metadata": {},
   "outputs": [
    {
     "data": {
      "image/png": "[encoded data removed]",
      "text/plain": [
       "<Figure size 800x800 with 9 Axes>"
      ]
     },
     "metadata": {},
     "output_type": "display_data"
    }
   ],
   "source": [
    "# cell 31\n",
    "figure = plt.figure(figsize=(8, 8))\n",
    "cols, rows = 3, 3\n",
    "for i in range(1, cols * rows + 1):\n",
    "    sample_idx = torch.randint(len(training_data), size=(1,)).item()\n",
    "    img, label = training_data[sample_idx]\n",
    "    figure.add_subplot(rows, cols, i)\n",
    "    plt.title(labels_map[label])\n",
    "    plt.axis(\"off\")\n",
    "    plt.imshow(img.squeeze(), cmap=\"gray\")\n",
    "plt.show()"
   ]
  },
  {
   "cell_type": "markdown",
   "metadata": {},
   "source": [
    "### Step 2: Building Dataloader"
   ]
  },
  {
   "cell_type": "code",
   "execution_count": 56,
   "metadata": {},
   "outputs": [],
   "source": [
    "# cell 32\n",
    "train_dataloader = DataLoader(training_data, batch_size=64, shuffle=True)\n",
    "test_dataloader = DataLoader(test_data, batch_size=64, shuffle=True)"
   ]
  },
  {
   "cell_type": "code",
   "execution_count": 58,
   "metadata": {},
   "outputs": [
    {
     "name": "stdout",
     "output_type": "stream",
     "text": [
      "Training batch shape: torch.Size([64, 1, 28, 28])\n",
      "Labels batch shape: torch.Size([64])\n"
     ]
    }
   ],
   "source": [
    "# cell 33\n",
    "train_features, train_labels = next(iter(train_dataloader))\n",
    "print(f\"Training batch shape: {train_features.size()}\")\n",
    "print(f\"Labels batch shape: {train_labels.size()}\")"
   ]
  },
  {
   "cell_type": "markdown",
   "metadata": {},
   "source": [
    "### Step 3: Build Model Architecture"
   ]
  },
  {
   "cell_type": "code",
   "execution_count": 59,
   "metadata": {},
   "outputs": [],
   "source": [
    "# cell 34\n",
    "class NeuralNetwork(nn.Module):\n",
    "    def __init__(self):\n",
    "        super().__init__()\n",
    "        self.flatten = nn.Flatten()\n",
    "        self.linear_relu_stack = nn.Sequential(\n",
    "            nn.Linear(28*28, 512),\n",
    "            nn.ReLU(),\n",
    "            nn.Linear(512, 512),\n",
    "            nn.ReLU(),\n",
    "            nn.Linear(512, 10),\n",
    "        )\n",
    "\n",
    "    def forward(self, x):\n",
    "        x = self.flatten(x)\n",
    "        logits = self.linear_relu_stack(x)\n",
    "        return logits"
   ]
  },
  {
   "cell_type": "code",
   "execution_count": 60,
   "metadata": {},
   "outputs": [
    {
     "name": "stdout",
     "output_type": "stream",
     "text": [
      "Using cpu device\n"
     ]
    }
   ],
   "source": [
    "# cell 35\n",
    "device = (\"cuda\" if torch.cuda.is_available() else \"cpu\")\n",
    "print(f\"Using {device} device\")"
   ]
  },
  {
   "cell_type": "code",
   "execution_count": 61,
   "metadata": {},
   "outputs": [
    {
     "name": "stdout",
     "output_type": "stream",
     "text": [
      "NeuralNetwork(\n",
      "  (flatten): Flatten(start_dim=1, end_dim=-1)\n",
      "  (linear_relu_stack): Sequential(\n",
      "    (0): Linear(in_features=784, out_features=512, bias=True)\n",
      "    (1): ReLU()\n",
      "    (2): Linear(in_features=512, out_features=512, bias=True)\n",
      "    (3): ReLU()\n",
      "    (4): Linear(in_features=512, out_features=10, bias=True)\n",
      "  )\n",
      ")\n"
     ]
    }
   ],
   "source": [
    "# cell 36\n",
    "model = NeuralNetwork().to(device)\n",
    "print(model) "
   ]
  },
  {
   "cell_type": "markdown",
   "metadata": {},
   "source": [
    "### Step 4: Prepare Training/Optimization Loop"
   ]
  },
  {
   "cell_type": "code",
   "execution_count": 62,
   "metadata": {},
   "outputs": [],
   "source": [
    "# cell 37\n",
    "def train(train_dataloader, test_dataloader, model, loss_fn, optimizer, epochs, device, val_interval=1):\n",
    "    train_loss_values = []\n",
    "    val_loss_values = []\n",
    "    val_accuracy_values = []\n",
    "    # Training loop\n",
    "    for epoch in range(epochs):\n",
    "        print(\"-\" * 10)\n",
    "        print(f\"epoch {epoch + 1}/{epochs}\")\n",
    "        model.train()   # set model on training mode\n",
    "        epoch_loss = 0\n",
    "        val_epoch_loss = 0\n",
    "        step = 0\n",
    "        correct_count = 0\n",
    "        for batch_data in tqdm(train_dataloader):\n",
    "            step += 1\n",
    "            inputs, labels = (\n",
    "                batch_data[0].to(device),\n",
    "                batch_data[1].to(device),\n",
    "            )\n",
    "            optimizer.zero_grad()\n",
    "            outputs = model(inputs)\n",
    "            loss = loss_fn(outputs, labels)   # Batch loss\n",
    "            loss.backward()\n",
    "            optimizer.step()\n",
    "            epoch_loss += loss.item()\n",
    "\n",
    "        epoch_loss /= step\n",
    "        train_loss_values.append(epoch_loss)\n",
    "        print(f\"Epoch {epoch + 1} average training loss: {epoch_loss:.4f}\")\n",
    "      \n",
    "        # Validation loop\n",
    "        if (epoch + 1) % val_interval == 0:\n",
    "            model.eval()    # Setting model in eval mode\n",
    "            with torch.no_grad():\n",
    "                val_step = 0\n",
    "                for val_data in test_dataloader:\n",
    "                    val_step += 1\n",
    "                    val_inputs, val_labels = (\n",
    "                      val_data[0].to(device),\n",
    "                      val_data[1].to(device),\n",
    "                    )\n",
    "                    outputs = model(val_inputs)\n",
    "                    loss = loss_fn(outputs, val_labels)   # Batch loss\n",
    "                    val_epoch_loss += loss.item()\n",
    "                    correct_count += (outputs.argmax(1) == val_labels).type(torch.float).sum().item()\n",
    "                    # print(correct_count)\n",
    "            val_epoch_loss /= val_step\n",
    "            accuracy = correct_count / len(test_dataloader.dataset)\n",
    "            val_loss_values.append(val_epoch_loss)\n",
    "            val_accuracy_values.append(accuracy)\n",
    "            print(f\"Epoch {epoch + 1} average validation loss: {val_epoch_loss:.4f}\")\n",
    "            print(f\"Validation Accuracy: {(100 * accuracy):>0.1f}% \\n\")\n",
    "            \n",
    "    return train_loss_values, val_loss_values, val_accuracy_values\n",
    "                  "
   ]
  },
  {
   "cell_type": "markdown",
   "metadata": {},
   "source": [
    "### Step 5: Model Training and Evaluation"
   ]
  },
  {
   "cell_type": "markdown",
   "metadata": {},
   "source": [
    "Setting Hyperparameters"
   ]
  },
  {
   "cell_type": "code",
   "execution_count": 63,
   "metadata": {},
   "outputs": [],
   "source": [
    "# cell 38\n",
    "learning_rate = 1e-3\n",
    "batch_size = 64\n",
    "epochs = 5"
   ]
  },
  {
   "cell_type": "code",
   "execution_count": 64,
   "metadata": {},
   "outputs": [
    {
     "name": "stdout",
     "output_type": "stream",
     "text": [
      "----------\n",
      "epoch 1/5\n"
     ]
    },
    {
     "name": "stderr",
     "output_type": "stream",
     "text": [
      "100%|███████████████████████████████████████████████████████████████████████████████| 938/938 [00:09<00:00, 102.49it/s]\n"
     ]
    },
    {
     "name": "stdout",
     "output_type": "stream",
     "text": [
      "Epoch 1 average training loss: 2.2361\n",
      "Epoch 1 average validation loss: 2.1568\n",
      "Validation Accuracy: 43.2% \n",
      "\n",
      "----------\n",
      "epoch 2/5\n"
     ]
    },
    {
     "name": "stderr",
     "output_type": "stream",
     "text": [
      "100%|████████████████████████████████████████████████████████████████████████████████| 938/938 [00:09<00:00, 97.82it/s]\n"
     ]
    },
    {
     "name": "stdout",
     "output_type": "stream",
     "text": [
      "Epoch 2 average training loss: 2.0330\n",
      "Epoch 2 average validation loss: 1.8820\n",
      "Validation Accuracy: 60.4% \n",
      "\n",
      "----------\n",
      "epoch 3/5\n"
     ]
    },
    {
     "name": "stderr",
     "output_type": "stream",
     "text": [
      "100%|████████████████████████████████████████████████████████████████████████████████| 938/938 [00:10<00:00, 93.44it/s]\n"
     ]
    },
    {
     "name": "stdout",
     "output_type": "stream",
     "text": [
      "Epoch 3 average training loss: 1.6927\n",
      "Epoch 3 average validation loss: 1.5164\n",
      "Validation Accuracy: 62.2% \n",
      "\n",
      "----------\n",
      "epoch 4/5\n"
     ]
    },
    {
     "name": "stderr",
     "output_type": "stream",
     "text": [
      "100%|████████████████████████████████████████████████████████████████████████████████| 938/938 [00:10<00:00, 89.55it/s]\n"
     ]
    },
    {
     "name": "stdout",
     "output_type": "stream",
     "text": [
      "Epoch 4 average training loss: 1.3720\n",
      "Epoch 4 average validation loss: 1.2603\n",
      "Validation Accuracy: 63.0% \n",
      "\n",
      "----------\n",
      "epoch 5/5\n"
     ]
    },
    {
     "name": "stderr",
     "output_type": "stream",
     "text": [
      "100%|████████████████████████████████████████████████████████████████████████████████| 938/938 [00:11<00:00, 83.38it/s]\n"
     ]
    },
    {
     "name": "stdout",
     "output_type": "stream",
     "text": [
      "Epoch 5 average training loss: 1.1664\n",
      "Epoch 5 average validation loss: 1.1008\n",
      "Validation Accuracy: 64.1% \n",
      "\n"
     ]
    }
   ],
   "source": [
    "# cell 39\n",
    "loss_fn = nn.CrossEntropyLoss()\n",
    "optimizer = torch.optim.SGD(model.parameters(), lr=learning_rate)\n",
    "train_loss_values, val_loss_values, val_accuracy_values = train(train_dataloader, test_dataloader, model, loss_fn, optimizer, epochs, device, val_interval=1)"
   ]
  },
  {
   "cell_type": "code",
   "execution_count": 65,
   "metadata": {},
   "outputs": [
    {
     "data": {
      "image/png": "[encoded data removed]",
      "text/plain": [
       "<Figure size 1500x500 with 2 Axes>"
      ]
     },
     "metadata": {},
     "output_type": "display_data"
    }
   ],
   "source": [
    "# cell 40\n",
    "val_interval = 1\n",
    "plt.figure(figsize=(15, 5))\n",
    "\n",
    "# Subplot for training and validation loss\n",
    "plt.subplot(1, 2, 1)\n",
    "plt.title(\"Loss Plot\")\n",
    "train_num_epoch = [i + 1 for i in range(len(train_loss_values))]\n",
    "val_num_epoch = [val_interval * (i + 1) for i in range(len(val_loss_values))]\n",
    "plt.plot(val_num_epoch, val_loss_values)\n",
    "plt.plot(train_num_epoch, train_loss_values)\n",
    "plt.legend([\"Validation Loss\", \"Training Loss\"])\n",
    "plt.xlabel(\"#Epochs\")\n",
    "plt.ylabel(\"Average Epoch Loss\")\n",
    "\n",
    "# Subplot for validation accuracy\n",
    "plt.subplot(1, 2, 2)\n",
    "val_num_epoch = [val_interval * (i + 1) for i in range(len(val_accuracy_values))]\n",
    "plt.plot(val_num_epoch, val_accuracy_values)\n",
    "plt.title(\"Accuracy plot\")\n",
    "plt.xlabel(\"#Epochs\")\n",
    "plt.ylabel(\"Accuracy\")\n",
    "plt.show()"
   ]
  },
  {
   "cell_type": "markdown",
   "metadata": {},
   "source": [
    "### Step 6: Model Saving"
   ]
  },
  {
   "cell_type": "markdown",
   "metadata": {},
   "source": [
    "#### Saving the entire model\n",
    "* When we save the model with this approach, we could easily load the model without needing its architecture.\n",
    "* But we could not resume training."
   ]
  },
  {
   "cell_type": "code",
   "execution_count": 66,
   "metadata": {},
   "outputs": [],
   "source": [
    "# cell 41\n",
    "torch.save(model, \"model.pth\")"
   ]
  },
  {
   "cell_type": "markdown",
   "metadata": {},
   "source": [
    "#### Loading the saved model"
   ]
  },
  {
   "cell_type": "code",
   "execution_count": 67,
   "metadata": {},
   "outputs": [],
   "source": [
    "# cell 42\n",
    "# Loading the saved model\n",
    "model = torch.load(\"model.pth\")"
   ]
  },
  {
   "cell_type": "markdown",
   "metadata": {},
   "source": [
    "#### Saving model state and relevant information\n",
    "* When we save the model with this approach, we need to load the model architecture first and then only we could load the weights.\n",
    "* We could resume training from the saved checkpoint."
   ]
  },
  {
   "cell_type": "code",
   "execution_count": 68,
   "metadata": {},
   "outputs": [],
   "source": [
    "# cell 43\n",
    "checkpoint = {\n",
    "    \"model_state\": model.state_dict(),\n",
    "    \"optimizer_state\": optimizer.state_dict(),\n",
    "    \"train_loss\": train_loss_values,\n",
    "    \"val_loss\": val_loss_values,\n",
    "    \"val_accuracy\": val_accuracy_values\n",
    "}\n",
    "torch.save(checkpoint, 'checkpoint.pth.tar')"
   ]
  },
  {
   "cell_type": "markdown",
   "metadata": {},
   "source": [
    "#### Loading the saved checkpoint"
   ]
  },
  {
   "cell_type": "code",
   "execution_count": 69,
   "metadata": {},
   "outputs": [],
   "source": [
    "# cell 44\n",
    "# Loading the checkpoint\n",
    "checkpoint = torch.load('checkpoint.pth.tar')\n",
    "\n",
    "# First load the model architecture i.e. instantiate the model class and optimizer\n",
    "model = NeuralNetwork()\n",
    "optimizer = torch.optim.SGD(model.parameters(), lr=learning_rate)\n",
    "\n",
    "# Then load the model weights and optimizer state\n",
    "model.load_state_dict(checkpoint['model_state'])\n",
    "optimizer.load_state_dict(checkpoint['optimizer_state'])\n",
    "\n",
    "# We can use these values for plotting\n",
    "train_loss_values = checkpoint['train_loss']\n",
    "val_loss_values = checkpoint['val_loss']\n",
    "val_accuracy_values = checkpoint['val_accuracy']"
   ]
  },
  {
   "cell_type": "markdown",
   "metadata": {},
   "source": [
    "### Step 7: Model Inferencing"
   ]
  },
  {
   "cell_type": "code",
   "execution_count": 70,
   "metadata": {},
   "outputs": [
    {
     "name": "stdout",
     "output_type": "stream",
     "text": [
      "Image shape:  torch.Size([1, 28, 28])\n",
      "Image shape after unsqueeze:  torch.Size([1, 1, 28, 28])\n",
      "Predicted: 1\n",
      "Target: 9\n"
     ]
    }
   ],
   "source": [
    "# cell 45\n",
    "image, label = test_data[0]\n",
    "print(\"Image shape: \", image.shape)\n",
    "# Adding batch dimension\n",
    "image_reshaped = image.unsqueeze(0).to(device) \n",
    "model = model.to(device)\n",
    "print(\"Image shape after unsqueeze: \", image_reshaped.shape)\n",
    "prediction = model(image_reshaped)\n",
    "prediction_index = predicted.argmax().item()\n",
    "print(f'Predicted: {prediction_index}')\n",
    "print(f'Target: {label}')"
   ]
  },
  {
   "cell_type": "markdown",
   "metadata": {},
   "source": [
    "Visualizing the Image"
   ]
  },
  {
   "cell_type": "code",
   "execution_count": 71,
   "metadata": {},
   "outputs": [
    {
     "data": {
      "image/png": "[encoded data removed]",
      "text/plain": [
       "<Figure size 500x500 with 1 Axes>"
      ]
     },
     "metadata": {},
     "output_type": "display_data"
    }
   ],
   "source": [
    "# cell 46\n",
    "figure = plt.figure(figsize=(5, 5))\n",
    "plt.title(f\"Label: {labels_map[label]} \\n Predicted: {labels_map[prediction_index]}\")\n",
    "plt.imshow(image.squeeze(), cmap=\"gray\")\n",
    "plt.xlabel(labels_map[prediction_index])\n",
    "plt.axis(\"off\")\n",
    "plt.show()"
   ]
  },
  {
   "cell_type": "markdown",
   "metadata": {},
   "source": [
    "### Step 8: Model Quantization and Conversion\n",
    "* Model quantization refers to techniques for performing computations and storing tensors at lower bitwidths (usually int8) than floating point precision.\n",
    "* Quantization enables:\n",
    "    * 4x reduction in model size;\n",
    "    * 2-4x reduction in memory bandwidth;\n",
    "    * 2-4x faster inference due to savings in memory bandwidth and faster compute with int8 arithmetic (the exact speed up varies depending on the hardware, the runtime, and the model).\n",
    "* In model conversion, we will convert the native pytorch model to ONNX(Open Neural Network Exchange) format which is open standard format for representing machine learning models"
   ]
  },
  {
   "cell_type": "markdown",
   "metadata": {},
   "source": [
    "Quantizating model to int8 Precision"
   ]
  },
  {
   "cell_type": "code",
   "execution_count": 72,
   "metadata": {},
   "outputs": [
    {
     "name": "stdout",
     "output_type": "stream",
     "text": [
      "NeuralNetwork(\n",
      "  (flatten): Flatten(start_dim=1, end_dim=-1)\n",
      "  (linear_relu_stack): Sequential(\n",
      "    (0): DynamicQuantizedLinear(in_features=784, out_features=512, dtype=torch.qint8, qscheme=torch.per_tensor_affine)\n",
      "    (1): ReLU()\n",
      "    (2): DynamicQuantizedLinear(in_features=512, out_features=512, dtype=torch.qint8, qscheme=torch.per_tensor_affine)\n",
      "    (3): ReLU()\n",
      "    (4): DynamicQuantizedLinear(in_features=512, out_features=10, dtype=torch.qint8, qscheme=torch.per_tensor_affine)\n",
      "  )\n",
      ")\n"
     ]
    }
   ],
   "source": [
    "# cell 47\n",
    "loaded_model = torch.load(\"model.pth\")\n",
    "quantized_model = torch.quantization.quantize_dynamic(model, {torch.nn.Linear}, dtype=torch.qint8)\n",
    "print(quantized_model)"
   ]
  },
  {
   "cell_type": "code",
   "execution_count": 73,
   "metadata": {},
   "outputs": [],
   "source": [
    "# cell 48\n",
    "# Savimg quantized model\n",
    "torch.save(quantized_model, \"quantized_model.pth\")"
   ]
  },
  {
   "cell_type": "markdown",
   "metadata": {},
   "source": [
    "ONNX Conversion"
   ]
  },
  {
   "cell_type": "code",
   "execution_count": 78,
   "metadata": {},
   "outputs": [
    {
     "name": "stdout",
     "output_type": "stream",
     "text": [
      "Collecting onnx\n",
      "  Obtaining dependency information for onnx from https://files.pythonhosted.org/packages/9c/7c/40fbebcb30f0fb6a773ca36e3a9dd4bdccd4b15455ef6c21a335781db78f/onnx-1.16.1-cp310-cp310-win_amd64.whl.metadata\n",
      "  Downloading onnx-1.16.1-cp310-cp310-win_amd64.whl.metadata (16 kB)\n",
      "Requirement already satisfied: numpy>=1.20 in c:\\users\\dell\\appdata\\local\\programs\\python\\python310\\lib\\site-packages (from onnx) (1.25.2)\n",
      "Requirement already satisfied: protobuf>=3.20.2 in c:\\users\\dell\\appdata\\local\\programs\\python\\python310\\lib\\site-packages (from onnx) (5.27.1)\n",
      "Downloading onnx-1.16.1-cp310-cp310-win_amd64.whl (14.4 MB)\n",
      "   ---------------------------------------- 0.0/14.4 MB ? eta -:--:--\n",
      "   ---------------------------------------- 0.0/14.4 MB 1.3 MB/s eta 0:00:12\n",
      "   ---------------------------------------- 0.1/14.4 MB 787.7 kB/s eta 0:00:19\n",
      "   ---------------------------------------- 0.1/14.4 MB 901.1 kB/s eta 0:00:16\n",
      "    --------------------------------------- 0.2/14.4 MB 1.4 MB/s eta 0:00:10\n",
      "   - -------------------------------------- 0.4/14.4 MB 1.8 MB/s eta 0:00:08\n",
      "   - -------------------------------------- 0.6/14.4 MB 2.3 MB/s eta 0:00:07\n",
      "   -- ------------------------------------- 0.9/14.4 MB 2.8 MB/s eta 0:00:05\n",
      "   --- ------------------------------------ 1.2/14.4 MB 3.1 MB/s eta 0:00:05\n",
      "   ---- ----------------------------------- 1.5/14.4 MB 3.4 MB/s eta 0:00:04\n",
      "   ---- ----------------------------------- 1.8/14.4 MB 3.7 MB/s eta 0:00:04\n",
      "   ----- ---------------------------------- 2.0/14.4 MB 3.8 MB/s eta 0:00:04\n",
      "   ------ --------------------------------- 2.3/14.4 MB 4.0 MB/s eta 0:00:04\n",
      "   ------- -------------------------------- 2.6/14.4 MB 4.1 MB/s eta 0:00:03\n",
      "   ------- -------------------------------- 2.8/14.4 MB 4.3 MB/s eta 0:00:03\n",
      "   -------- ------------------------------- 3.0/14.4 MB 4.3 MB/s eta 0:00:03\n",
      "   --------- ------------------------------ 3.3/14.4 MB 4.3 MB/s eta 0:00:03\n",
      "   --------- ------------------------------ 3.6/14.4 MB 4.5 MB/s eta 0:00:03\n",
      "   ---------- ----------------------------- 3.8/14.4 MB 4.5 MB/s eta 0:00:03\n",
      "   ----------- ---------------------------- 4.1/14.4 MB 4.6 MB/s eta 0:00:03\n",
      "   ----------- ---------------------------- 4.3/14.4 MB 4.7 MB/s eta 0:00:03\n",
      "   ------------ --------------------------- 4.5/14.4 MB 4.7 MB/s eta 0:00:03\n",
      "   ------------- -------------------------- 4.7/14.4 MB 4.8 MB/s eta 0:00:03\n",
      "   ------------- -------------------------- 4.9/14.4 MB 4.7 MB/s eta 0:00:03\n",
      "   -------------- ------------------------- 5.1/14.4 MB 4.8 MB/s eta 0:00:02\n",
      "   -------------- ------------------------- 5.3/14.4 MB 4.8 MB/s eta 0:00:02\n",
      "   --------------- ------------------------ 5.5/14.4 MB 4.9 MB/s eta 0:00:02\n",
      "   ---------------- ----------------------- 5.8/14.4 MB 4.9 MB/s eta 0:00:02\n",
      "   ---------------- ----------------------- 6.1/14.4 MB 5.0 MB/s eta 0:00:02\n",
      "   ----------------- ---------------------- 6.4/14.4 MB 5.0 MB/s eta 0:00:02\n",
      "   ------------------ --------------------- 6.6/14.4 MB 5.0 MB/s eta 0:00:02\n",
      "   ------------------ --------------------- 6.8/14.4 MB 5.0 MB/s eta 0:00:02\n",
      "   ------------------- -------------------- 7.1/14.4 MB 5.0 MB/s eta 0:00:02\n",
      "   -------------------- ------------------- 7.3/14.4 MB 5.1 MB/s eta 0:00:02\n",
      "   -------------------- ------------------- 7.5/14.4 MB 5.1 MB/s eta 0:00:02\n",
      "   --------------------- ------------------ 7.8/14.4 MB 5.0 MB/s eta 0:00:02\n",
      "   ---------------------- ----------------- 8.0/14.4 MB 5.1 MB/s eta 0:00:02\n",
      "   ---------------------- ----------------- 8.2/14.4 MB 5.1 MB/s eta 0:00:02\n",
      "   ----------------------- ---------------- 8.4/14.4 MB 5.1 MB/s eta 0:00:02\n",
      "   ------------------------ --------------- 8.7/14.4 MB 5.1 MB/s eta 0:00:02\n",
      "   ------------------------ --------------- 9.0/14.4 MB 5.1 MB/s eta 0:00:02\n",
      "   ------------------------- -------------- 9.3/14.4 MB 5.2 MB/s eta 0:00:02\n",
      "   -------------------------- ------------- 9.6/14.4 MB 5.2 MB/s eta 0:00:01\n",
      "   --------------------------- ------------ 9.8/14.4 MB 5.2 MB/s eta 0:00:01\n",
      "   --------------------------- ------------ 10.1/14.4 MB 5.2 MB/s eta 0:00:01\n",
      "   ---------------------------- ----------- 10.3/14.4 MB 5.4 MB/s eta 0:00:01\n",
      "   ----------------------------- ---------- 10.5/14.4 MB 5.6 MB/s eta 0:00:01\n",
      "   ----------------------------- ---------- 10.7/14.4 MB 5.6 MB/s eta 0:00:01\n",
      "   ------------------------------ --------- 11.0/14.4 MB 5.7 MB/s eta 0:00:01\n",
      "   ------------------------------- -------- 11.2/14.4 MB 5.7 MB/s eta 0:00:01\n",
      "   ------------------------------- -------- 11.4/14.4 MB 5.7 MB/s eta 0:00:01\n",
      "   -------------------------------- ------- 11.7/14.4 MB 5.7 MB/s eta 0:00:01\n",
      "   -------------------------------- ------- 11.9/14.4 MB 5.7 MB/s eta 0:00:01\n",
      "   --------------------------------- ------ 12.1/14.4 MB 5.7 MB/s eta 0:00:01\n",
      "   ---------------------------------- ----- 12.4/14.4 MB 5.8 MB/s eta 0:00:01\n",
      "   ---------------------------------- ----- 12.6/14.4 MB 5.8 MB/s eta 0:00:01\n",
      "   ----------------------------------- ---- 12.8/14.4 MB 5.7 MB/s eta 0:00:01\n",
      "   ------------------------------------ --- 13.1/14.4 MB 5.8 MB/s eta 0:00:01\n",
      "   ------------------------------------ --- 13.4/14.4 MB 5.8 MB/s eta 0:00:01\n",
      "   ------------------------------------- -- 13.6/14.4 MB 5.8 MB/s eta 0:00:01\n",
      "   -------------------------------------- - 13.9/14.4 MB 5.8 MB/s eta 0:00:01\n",
      "   -------------------------------------- - 14.1/14.4 MB 5.8 MB/s eta 0:00:01\n",
      "   ---------------------------------------  14.4/14.4 MB 5.8 MB/s eta 0:00:01\n",
      "   ---------------------------------------  14.4/14.4 MB 5.8 MB/s eta 0:00:01\n",
      "   ---------------------------------------- 14.4/14.4 MB 5.6 MB/s eta 0:00:00\n",
      "Installing collected packages: onnx\n",
      "Successfully installed onnx-1.16.1\n"
     ]
    },
    {
     "name": "stderr",
     "output_type": "stream",
     "text": [
      "\n",
      "[notice] A new release of pip is available: 23.2.1 -> 24.0\n",
      "[notice] To update, run: python.exe -m pip install --upgrade pip\n"
     ]
    }
   ],
   "source": [
    "# cell 49\n",
    "# Install the dependencies for model conversion\n",
    "!pip install onnx"
   ]
  },
  {
   "cell_type": "code",
   "execution_count": 81,
   "metadata": {},
   "outputs": [],
   "source": [
    "# cell 50\n",
    "# loaded_model = torch.load(\"quantized_model.pth\")\n",
    "dummy_input = torch.randn(1, 1, 28, 28).to(device)\n",
    "torch.onnx.export(model.to(device), dummy_input, \"quantized_model.onnx\")  "
   ]
  },
  {
   "cell_type": "code",
   "execution_count": 82,
   "metadata": {},
   "outputs": [
    {
     "name": "stdout",
     "output_type": "stream",
     "text": [
      "Label:  9\n",
      "Predicted:  9\n"
     ]
    }
   ],
   "source": [
    "# cell 51\n",
    "import onnxruntime as ort\n",
    "\n",
    "EP_list = ['CPUExecutionProvider']\n",
    "ort_sess = ort.InferenceSession(\"quantized_model.onnx\", providers=EP_list)\n",
    "input_name = ort_sess.get_inputs()[0].name\n",
    "\n",
    "image, label = test_data[0]\n",
    "input_data = np.expand_dims(image, axis=0)\n",
    "outputs = ort_sess.run(None, {input_name: input_data})[0]\n",
    "prediction_index = outputs.argmax().item()\n",
    "print(\"Label: \", label)\n",
    "print(\"Predicted: \", prediction_index)"
   ]
  }
 ],
 "metadata": {
  "kernelspec": {
   "display_name": "Python 3 (ipykernel)",
   "language": "python",
   "name": "python3"
  },
  "language_info": {
   "codemirror_mode": {
    "name": "ipython",
    "version": 3
   },
   "file_extension": ".py",
   "mimetype": "text/x-python",
   "name": "python",
   "nbconvert_exporter": "python",
   "pygments_lexer": "ipython3",
   "version": "3.10.11"
  }
 },
 "nbformat": 4,
 "nbformat_minor": 4
}
